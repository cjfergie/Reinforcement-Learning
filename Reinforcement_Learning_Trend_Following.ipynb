{
  "nbformat": 4,
  "nbformat_minor": 0,
  "metadata": {
    "colab": {
      "provenance": [],
      "authorship_tag": "ABX9TyPkSOLWCNQA5veCjxXxVXZT",
      "include_colab_link": true
    },
    "kernelspec": {
      "name": "python3",
      "display_name": "Python 3"
    },
    "language_info": {
      "name": "python"
    }
  },
  "cells": [
    {
      "cell_type": "markdown",
      "metadata": {
        "id": "view-in-github",
        "colab_type": "text"
      },
      "source": [
        "<a href=\"https://colab.research.google.com/github/cjfergie/Reinforcement-Learning/blob/main/Reinforcement_Learning_Trend_Following.ipynb\" target=\"_parent\"><img src=\"https://colab.research.google.com/assets/colab-badge.svg\" alt=\"Open In Colab\"/></a>"
      ]
    },
    {
      "cell_type": "code",
      "execution_count": 1,
      "metadata": {
        "colab": {
          "base_uri": "https://localhost:8080/"
        },
        "id": "YZl_M3qZ5eJx",
        "outputId": "f50a6bae-4cbc-4423-d3ca-410f4af27303"
      },
      "outputs": [
        {
          "output_type": "stream",
          "name": "stdout",
          "text": [
            "--2024-03-31 01:12:52--  https://lazyprogrammer.me/course_files/SPY.csv\n",
            "Resolving lazyprogrammer.me (lazyprogrammer.me)... 104.21.23.210, 172.67.213.166, 2606:4700:3031::6815:17d2, ...\n",
            "Connecting to lazyprogrammer.me (lazyprogrammer.me)|104.21.23.210|:443... connected.\n",
            "HTTP request sent, awaiting response... 200 OK\n",
            "Length: 251935 (246K) [text/csv]\n",
            "Saving to: ‘SPY.csv’\n",
            "\n",
            "SPY.csv             100%[===================>] 246.03K  --.-KB/s    in 0.06s   \n",
            "\n",
            "2024-03-31 01:12:53 (3.99 MB/s) - ‘SPY.csv’ saved [251935/251935]\n",
            "\n"
          ]
        }
      ],
      "source": [
        "!wget -nc https://lazyprogrammer.me/course_files/SPY.csv"
      ]
    },
    {
      "cell_type": "code",
      "source": [
        "import pandas as pd\n",
        "import numpy as np\n",
        "import matplotlib.pyplot as plt\n"
      ],
      "metadata": {
        "id": "LsM99EoL2mbc"
      },
      "execution_count": 2,
      "outputs": []
    },
    {
      "cell_type": "code",
      "source": [
        "df = pd.read_csv('SPY.csv', index_col='Date', parse_dates=True)"
      ],
      "metadata": {
        "id": "iDGvGmVx2r8L"
      },
      "execution_count": 3,
      "outputs": []
    },
    {
      "cell_type": "code",
      "source": [
        "#make features\n",
        "df['FastSMA'] = df['Close'].rolling(16).mean()\n",
        "df['SlowSMA'] = df['Close'].rolling(33).mean()\n",
        "feats = ['FastSMA', 'SlowSMA']"
      ],
      "metadata": {
        "id": "dUNDF5nz20uu"
      },
      "execution_count": 4,
      "outputs": []
    },
    {
      "cell_type": "code",
      "source": [
        "df['LogReturn'] = np.log(df['Close']).diff()"
      ],
      "metadata": {
        "id": "xLloigUo3KfO"
      },
      "execution_count": 5,
      "outputs": []
    },
    {
      "cell_type": "code",
      "source": [
        "#split into train and test\n",
        "Ntest = 1000\n",
        "train_data = df.iloc[:-Ntest].copy()\n",
        "test_data = df.iloc[-Ntest:].copy()"
      ],
      "metadata": {
        "id": "NLNodRnK3TZD"
      },
      "execution_count": 58,
      "outputs": []
    },
    {
      "cell_type": "code",
      "source": [
        "class Env:\n",
        "  def __init__(self, df):\n",
        "    self.df = df\n",
        "    self.n = len(df)\n",
        "    self.current_idx = 0\n",
        "    self.action_space = [0, 1, 2] # BUY, SELL, HOLD\n",
        "    self.invested = 0\n",
        "\n",
        "    self.states = self.df[feats].to_numpy()\n",
        "    self.rewards = self.df['LogReturn'].to_numpy()\n",
        "    self.total_buy_and_hold = 0\n",
        "\n",
        "  def reset(self):\n",
        "    self.current_idx = 0\n",
        "    self.total_buy_and_hold = 0\n",
        "    self.invested = 0\n",
        "    return self.states[self.current_idx]\n",
        "\n",
        "  def step(self, action):\n",
        "    # need to return (next_state, reward, done)\n",
        "    self.current_idx += 1\n",
        "    if self.current_idx >= self.n:\n",
        "      raise Exception(\"Episode already done\")\n",
        "\n",
        "    if action == 0: # BUY\n",
        "      self.invested = 1\n",
        "    elif action == 1: # SELL\n",
        "      self.invested = 0\n",
        "\n",
        "    # compute reward\n",
        "    if self.invested:\n",
        "      reward = self.rewards[self.current_idx]\n",
        "    else:\n",
        "      reward = 0\n",
        "\n",
        "    # state transition\n",
        "    next_state = self.states[self.current_idx]\n",
        "\n",
        "    # baseline\n",
        "    self.total_buy_and_hold += self.rewards[self.current_idx]\n",
        "\n",
        "    # done flag\n",
        "    done = (self.current_idx == self.n - 1)\n",
        "    return next_state, reward, done"
      ],
      "metadata": {
        "id": "hs4WHYMo3oXu"
      },
      "execution_count": 59,
      "outputs": []
    },
    {
      "cell_type": "code",
      "source": [
        "class Agent:\n",
        "  def _init_(self):\n",
        "    self.is_invested = False\n",
        "\n",
        "  def act(self, state):\n",
        "    assert(len(state) == 2)\n",
        "    #(fast, slow)\n",
        "\n",
        "    if state[0] > state[1] and not self.is_invested:\n",
        "      self.is_invested = True\n",
        "      return 0 # buy\n",
        "\n",
        "    if state[0] < state[1] and not self.is_invested:\n",
        "      self.is_invested = False\n",
        "      return 1 # sell\n",
        "\n",
        "    return 2 # do nothing"
      ],
      "metadata": {
        "id": "i3miIS0A6qxJ"
      },
      "execution_count": 60,
      "outputs": []
    },
    {
      "cell_type": "code",
      "source": [
        "def play_one_episode(agent, env):\n",
        "  state = env.reset()\n",
        "  done = False\n",
        "  total_reward = 0\n",
        "  agent.is_invested = False\n",
        "\n",
        "  while not done:\n",
        "    action = agent.act(state)\n",
        "    next_state, reward, done = env.step(action)\n",
        "    total_reward += reward\n",
        "\n",
        "  return total_reward\n"
      ],
      "metadata": {
        "id": "btK26-QxDt23"
      },
      "execution_count": 61,
      "outputs": []
    },
    {
      "cell_type": "code",
      "source": [
        "train_env = Env(train_data)\n",
        "test_env = Env(test_data)"
      ],
      "metadata": {
        "id": "RGQxv_AoESfG"
      },
      "execution_count": 62,
      "outputs": []
    },
    {
      "cell_type": "code",
      "source": [
        "agent = Agent()"
      ],
      "metadata": {
        "id": "bqvQwYNwEaG1"
      },
      "execution_count": 63,
      "outputs": []
    },
    {
      "cell_type": "code",
      "source": [
        "train_reward = play_one_episode(agent, train_env)"
      ],
      "metadata": {
        "id": "NuEWr3i3HIxn"
      },
      "execution_count": 64,
      "outputs": []
    },
    {
      "cell_type": "code",
      "source": [
        "test_reward = play_one_episode(agent, test_env)"
      ],
      "metadata": {
        "id": "OlNjUCrtHOcR"
      },
      "execution_count": 65,
      "outputs": []
    },
    {
      "cell_type": "code",
      "source": [
        "train_reward, train_env.total_buy_and_hold"
      ],
      "metadata": {
        "colab": {
          "base_uri": "https://localhost:8080/"
        },
        "id": "_rNCeZlzHTkU",
        "outputId": "922abace-f949-45de-952e-1c87e6676894"
      },
      "execution_count": 66,
      "outputs": [
        {
          "output_type": "execute_result",
          "data": {
            "text/plain": [
              "(0, 0.5970866514889401)"
            ]
          },
          "metadata": {},
          "execution_count": 66
        }
      ]
    },
    {
      "cell_type": "code",
      "source": [
        "test_reward, test_env.total_buy_and_hold"
      ],
      "metadata": {
        "colab": {
          "base_uri": "https://localhost:8080/"
        },
        "id": "sTaR00q3HY5q",
        "outputId": "d34c661b-8f41-4311-da09-fa86450187aa"
      },
      "execution_count": 67,
      "outputs": [
        {
          "output_type": "execute_result",
          "data": {
            "text/plain": [
              "(0.19307543946998518, 0.19307543946998518)"
            ]
          },
          "metadata": {},
          "execution_count": 67
        }
      ]
    },
    {
      "cell_type": "code",
      "source": [],
      "metadata": {
        "id": "aqeZtBZXHzZ3"
      },
      "execution_count": 67,
      "outputs": []
    }
  ]
}